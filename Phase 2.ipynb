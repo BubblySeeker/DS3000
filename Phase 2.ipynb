{
 "cells": [
  {
   "cell_type": "markdown",
   "id": "61d54d5c-dc78-4cb5-87b6-8dc6ccf11297",
   "metadata": {},
   "source": [
    "# Project Phase II\n",
    "Rohan Batra, Isabella Bartolomei, Dalia Zizumbo"
   ]
  },
  {
   "cell_type": "markdown",
   "id": "f982c7f8-505b-49b4-9078-1a6091eb6b89",
   "metadata": {},
   "source": [
    "## The Project\n",
    "Our motivation for this project is to uncover common physical characteristics based on the duration of one's workout and the calories they burn, and be able to give workout recommendations given physical traits using an ML model trained on our data. Two main questions we want to explore are:\n",
    "1. How do workout and internal characteristics vary for individuals of a certain height and weight?\n",
    "2. What is the average amount of calories burnt for and the workout duration of those individuals with a healthy physique?\n",
    "\n",
    "## The Pipeline\n",
    "Here is an overview of our data processing pipeline that we demonstrate below:\n",
    "* We start off by scraping Kaggle's site of our dataset using <u>def scrape</u>, which generates a zip file in the user's Files system containing the calories dataset.\n",
    "* In <u>def get_data</u>, we read in the calories.csv from the zipped folder produced in def scrape.\n",
    "* <u>Def add_bmi</u> uses the dataframe from get_data and creates a new column of the BMI for each record. This will be helpful when creating the predictive ML model.\n",
    "* <u>Def classify_bmi</u> will categorize the \"healthy\" vs \"unhealthy\" BMI in each record, allowing us to gauge the population of unhealthy individuals in our dataset.\n",
    "* Finally, we have our two plots. <u>Def bar_plot</u> breaks out the data set into the categorized healthy and unhealthy groups made from def classify_bmi, and <u>def regression_plot</u> lets us see workout behavior in these categories, helping us understand this dataset's trend and what areas we need to address."
   ]
  },
  {
   "cell_type": "code",
   "execution_count": null,
   "id": "4f854931-c5ad-43e9-9a15-f6c8fb41e4e9",
   "metadata": {},
   "outputs": [],
   "source": [
    "import pandas as pd\n",
    "import matplotlib.pyplot as plt\n",
    "from bs4 import BeautifulSoup\n",
    "import requests\n",
    "import warnings\n",
    "import plotly.express as px\n",
    "warnings.simplefilter(action='ignore', category=FutureWarning)"
   ]
  },
  {
   "cell_type": "code",
   "execution_count": null,
   "id": "b5997d05-d4f0-448a-8211-22bdbcd23ba0",
   "metadata": {},
   "outputs": [],
   "source": [
    "username = 'rohanbatra8'\n",
    "key = 'db9b00f3a8c45858cf4e75c395cdba2c'"
   ]
  },
  {
   "cell_type": "code",
   "execution_count": null,
   "id": "ed7ff7da-192f-4750-ad26-b398db91e5a0",
   "metadata": {},
   "outputs": [],
   "source": [
    "def scrape(username, key):\n",
    "    ''' scrapes Kaggle for our calories dataset\n",
    "    \n",
    "    Args: username (string) - the username of the Kaggle user we can access the dataset through\n",
    "          key (string) - the Kaggle string to reach the environment\n",
    "    Returns: none - nothing is returned to the user, but a folder containing calories.csv is created in the user's Files system\n",
    "        \n",
    "    '''\n",
    "    \n",
    "    # Cell 1: Install Kaggle API \n",
    "    !pip install kaggle\n",
    "    \n",
    "    # Cell 2: Set Kaggle API credentials\n",
    "    import os\n",
    "    os.environ['KAGGLE_USERNAME'] = username  \n",
    "    os.environ['KAGGLE_KEY'] = key            \n",
    "    \n",
    "    # Cell 3: Download the dataset\n",
    "    !kaggle datasets download -d ruchikakumbhar/calories-burnt-prediction\n",
    "    \n",
    "    # Cell 4: Unzip the downloaded file, automatically answering \n",
    "    !echo y | unzip calories-burnt-prediction.zip\n"
   ]
  },
  {
   "cell_type": "code",
   "execution_count": null,
   "id": "62f79002-0cfb-4608-8202-0bfd985d1358",
   "metadata": {},
   "outputs": [],
   "source": [
    "def get_data():\n",
    "    ''' read in data and return as a dataframe\n",
    "\n",
    "    Args: nothing\n",
    "    Returns: df (dataframe) - dataframe of the csv\n",
    "\n",
    "    '''\n",
    "    \n",
    "    df = pd.read_csv('calories.csv')\n",
    "\n",
    "    return df"
   ]
  },
  {
   "cell_type": "code",
   "execution_count": null,
   "id": "13860733-f423-468c-a3ce-81ec04ab713c",
   "metadata": {},
   "outputs": [],
   "source": [
    "def add_bmi(df):\n",
    "    ''' adds the calculated field for BMI using height and weight fields\n",
    "\n",
    "    Args: df (dataframe) - the dataframe we created from get_data\n",
    "    Returns: df (dataframe) - the same dataframe but with an added BMI column\n",
    "\n",
    "    '''\n",
    "\n",
    "    df['BMI'] = df['Weight'] / (df['Height']* .01) ** 2\n",
    "\n",
    "    return df"
   ]
  },
  {
   "cell_type": "code",
   "execution_count": null,
   "id": "34c24f88-208d-4d5b-a3e9-68e42cf182e5",
   "metadata": {},
   "outputs": [],
   "source": [
    "def classify_bmi(bmi):\n",
    "    ''' categorizes the BMIs into 'healthy' and 'unhealthy' for plotting\n",
    "\n",
    "    Args: bmi (dataframe column) - the BMI column created by add_bmi\n",
    "    Returns: function to apply to the dataframe so it is updated with the new 'BMI_Category' column\n",
    "\n",
    "    '''\n",
    "    \n",
    "    if bmi < 18.5:\n",
    "        return 'Underweight'\n",
    "    elif 18.5 <= bmi < 24.9:\n",
    "        return 'Healthy'\n",
    "    else:\n",
    "        return 'Unhealthy'"
   ]
  },
  {
   "cell_type": "code",
   "execution_count": null,
   "id": "e29bf912-10ca-42ec-bb6a-7ee1bb4c26a7",
   "metadata": {},
   "outputs": [],
   "source": [
    "def bar_plot(df):\n",
    "    ''' creates bar plot based on the BMI Category and count of recrods\n",
    "    \n",
    "    Args: df (dataframe) - the dataframe we updated with add_bmi and classify_bmi\n",
    "    Returns: fig - bar plot made with plotly\n",
    "\n",
    "    '''\n",
    "    \n",
    "    bmi_grouped = df.groupby('BMI_Category').size().reset_index(name = 'Count')\n",
    "    fig = px.bar(bmi_grouped, \n",
    "                 x = \"BMI_Category\", \n",
    "                 y = \"Count\", \n",
    "                 text = \"Count\", \n",
    "                 title = \"Distribution of BMI Categories\",\n",
    "                 labels = {\"Count\": \"Number of People\", \"BMI_Category\": \"BMI Category\"})\n",
    "    \n",
    "    fig.update_layout(height = 600)\n",
    "    \n",
    "    fig.show()"
   ]
  },
  {
   "cell_type": "code",
   "execution_count": null,
   "id": "5bee2e4e-e156-4cd2-8ce3-da3a5dfaf55e",
   "metadata": {},
   "outputs": [],
   "source": [
    "def regression_plot(df):\n",
    "    ''' creates a regression plot displaying the the calories burned per workout duration for each individual\n",
    "\n",
    "    Args: df (dataframe) - the dataframe we updated with add_bmi and classify_bmi\n",
    "    Returns: fig - regression plot with plotly\n",
    "\n",
    "    '''\n",
    "    colors = {'Unhealthy': 'orange',\n",
    "              'Healthy': 'blue'}\n",
    "    \n",
    "    fig = px.scatter(df, x = \"Duration\", y = \"Calories\", trendline = \"ols\",\n",
    "                     title = \"Regression Plot: Workout Duration vs. Calories Burned\",\n",
    "                     labels = {\"Duration\": \"Workout Duration (min)\", \"Calories\": \"Calories Burned\"},\n",
    "                     color = 'BMI_Category',\n",
    "                     color_discrete_map = colors)\n",
    "\n",
    "    fig.update_traces(marker=dict(opacity=0.5))\n",
    "    fig.update_layout(height = 600)\n",
    "    \n",
    "    fig.show()"
   ]
  },
  {
   "cell_type": "code",
   "execution_count": null,
   "id": "6938caf3-d21e-42e3-85fc-81d9ef6d8477",
   "metadata": {},
   "outputs": [],
   "source": [
    "raw_data = get_data()\n",
    "data = add_bmi(raw_data)\n",
    "data['BMI_Category'] = data['BMI'].apply(classify_bmi)"
   ]
  },
  {
   "cell_type": "markdown",
   "id": "aaf8f656-fc48-4199-93ca-88eda027556d",
   "metadata": {},
   "source": [
    "## Plot 1\n",
    "#### Bar Plot: Distribution of BMI Categories\n",
    "\n",
    "This visualization helps us see that approximately 40% of the dataset has an Unhealthy BMI. This indicates a sizeable population that would find our project useful."
   ]
  },
  {
   "cell_type": "code",
   "execution_count": null,
   "id": "ebc56f4e-d1e8-4a6e-9fa4-3c634c5fbe36",
   "metadata": {},
   "outputs": [],
   "source": [
    "bar = bar_plot(data)\n",
    "bar"
   ]
  },
  {
   "cell_type": "markdown",
   "id": "228823a7-a8a5-4f5b-938d-c9db0357a7b2",
   "metadata": {},
   "source": [
    "## Plot 2\n",
    "### Regression Plot: Workout Duration vs. Calories Burned\n",
    "\n",
    "We can derive from this visualization that most of our Unhealthy BMI individuals burn more calories than our healthier individuals, and work out for longer (as seen from the orange data points migrating towards the top right). This could mean they are working towards a healthier BMI by taking more time to work out and burn more calories. Still, it could also indicate that they are overworking themselves and not hitting optimal workout duration and calories burned.\n",
    "\n",
    "We want to model our suggestions based on the range presented by the Healthy BMI individuals."
   ]
  },
  {
   "cell_type": "code",
   "execution_count": null,
   "id": "2084b7fd-c38c-474e-96b1-da1f4f13e57b",
   "metadata": {
    "scrolled": true
   },
   "outputs": [],
   "source": [
    "regression = regression_plot(data)\n",
    "regression"
   ]
  }
 ],
 "metadata": {
  "kernelspec": {
   "display_name": "Python [conda env:base] *",
   "language": "python",
   "name": "conda-base-py"
  },
  "language_info": {
   "codemirror_mode": {
    "name": "ipython",
    "version": 3
   },
   "file_extension": ".py",
   "mimetype": "text/x-python",
   "name": "python",
   "nbconvert_exporter": "python",
   "pygments_lexer": "ipython3",
   "version": "3.11.5"
  }
 },
 "nbformat": 4,
 "nbformat_minor": 5
}
