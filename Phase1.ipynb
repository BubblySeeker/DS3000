{
 "cells": [
  {
   "cell_type": "markdown",
   "id": "c7bdfa5f-c2bb-44e4-9c97-51a8c536d5a5",
   "metadata": {},
   "source": [
    "# Project 1\n",
    "Cardiovascular exercise is a fundamental component of fitness routines for people aiming to improve their health, achieve professional athletic performance, or maintain physical activity for other personal reasons. Despite its popularity, there is often a disconnect between the effort individuals put into cardio exercises and their understanding of the biometric impacts of these activities. This gap in knowledge can lead to frustration and inefficiencies in training programs, as generic workouts may not cater to the unique physiological responses of each person. How do individual characteristics such as age, gender, weight, and height influence the calories burned during a cardio session?\n",
    "\n"
   ]
  },
  {
   "cell_type": "code",
   "execution_count": null,
   "id": "e9bf114c-a05e-452b-a8da-0e4496d679df",
   "metadata": {},
   "outputs": [],
   "source": [
    "# Cell 1: Install Kaggle API \n",
    "!pip install kaggle\n",
    "\n",
    "# Cell 2: Set Kaggle API credentials\n",
    "import os\n",
    "os.environ['KAGGLE_USERNAME'] = 'rohanbatra8'  \n",
    "os.environ['KAGGLE_KEY'] = 'db9b00f3a8c45858cf4e75c395cdba2c'            \n",
    "\n",
    "# Cell 3: Download the dataset\n",
    "!kaggle datasets download -d ruchikakumbhar/calories-burnt-prediction\n",
    "\n",
    "# Cell 4: Unzip the downloaded file, automatically answering \n",
    "!echo y | unzip calories-burnt-prediction.zip\n",
    "\n",
    "# Cell 5: Load and display the dataset\n",
    "import pandas as pd\n",
    "df = pd.read_csv('calories.csv')  # Ensure the filename is correct\n",
    "df.head()\n"
   ]
  },
  {
   "cell_type": "markdown",
   "id": "30aae0d9-200e-4913-bd3e-2b17dbe3e88e",
   "metadata": {},
   "source": [
    "# Data review\n",
    "The dataset containing variables such as age, gender, weight, height, duration of cardio activity, heart rate, average temperature, and calories burned will be used to address two main questions related to the effectiveness and customization of cardio workouts. Firstly, by employing statistical analysis techniques and eventually machine learning models, we can investigate how individual characteristics influence the amount of calories burned during a cardio session. For this, regression analysis can be particularly useful as it will allow us to predict numerical values of calories burned based on input features like age, weight, and exercise duration. This can help in personalizing exercise programs to enhance calorie expenditure effectively for individuals based on their unique biometrics.\n"
   ]
  }
 ],
 "metadata": {
  "kernelspec": {
   "display_name": "Python [conda env:base] *",
   "language": "python",
   "name": "conda-base-py"
  },
  "language_info": {
   "codemirror_mode": {
    "name": "ipython",
    "version": 3
   },
   "file_extension": ".py",
   "mimetype": "text/x-python",
   "name": "python",
   "nbconvert_exporter": "python",
   "pygments_lexer": "ipython3",
   "version": "3.12.7"
  }
 },
 "nbformat": 4,
 "nbformat_minor": 5
}
